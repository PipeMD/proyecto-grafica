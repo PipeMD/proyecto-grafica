{
  "nbformat": 4,
  "nbformat_minor": 0,
  "metadata": {
    "colab": {
      "provenance": []
    },
    "kernelspec": {
      "name": "python3",
      "display_name": "Python 3"
    },
    "language_info": {
      "name": "python"
    }
  },
  "cells": [
    {
      "cell_type": "code",
      "execution_count": 3,
      "metadata": {
        "id": "49xNpKDGj8SM"
      },
      "outputs": [],
      "source": [
        "import pandas as pd\n",
        "import altair as alt\n",
        "\n",
        "\n",
        "df = '/content/NBA ANNUAL TEAMS ATTENDANCE (1).csv'\n",
        "nba_data = pd.read_csv(df)\n",
        "\n",
        "\n",
        "team_attendance = nba_data.groupby('Team', as_index=False)['Home Total Attendance'].sum()\n",
        "\n",
        "\n",
        "gráfico = alt.Chart(team_attendance).mark_bar().encode(\n",
        "    x=alt.X('Home Total Attendance:Q', title='Home Total Attendance'),\n",
        "    y=alt.Y('Team:N', sort='-x', title='Team'),\n",
        "    tooltip=['Team', 'Home Total Attendance']\n",
        "\n",
        ").properties(\n",
        "    title='Total Home Attendance por Equipo en la NBA',\n",
        "    width=800,\n",
        "    height=600\n",
        ")\n",
        "\n",
        "\n",
        "texto = gráfico.mark_text(\n",
        "    align='left',\n",
        "    baseline='middle',\n",
        "    dx=3\n",
        ").encode(\n",
        "    text='Home Total Attendance:Q'\n",
        ")\n",
        "\n",
        "\n",
        "gráfico_final = gráfico + texto\n",
        "\n",
        "\n",
        "gráfico_final.save('Data Asistencia Completa Barras.html')"
      ]
    }
  ]
}