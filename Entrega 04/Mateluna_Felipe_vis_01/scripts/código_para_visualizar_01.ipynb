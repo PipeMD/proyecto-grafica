{
  "nbformat": 4,
  "nbformat_minor": 0,
  "metadata": {
    "colab": {
      "provenance": []
    },
    "kernelspec": {
      "name": "python3",
      "display_name": "Python 3"
    },
    "language_info": {
      "name": "python"
    }
  },
  "cells": [
    {
      "cell_type": "code",
      "execution_count": 1,
      "metadata": {
        "id": "YDzIKbIUj8pR"
      },
      "outputs": [],
      "source": [
        "import pandas as pd\n",
        "import altair as alt\n",
        "\n",
        "df = '/content/NBA ANNUAL TEAMS ATTENDANCE (1).csv'\n",
        "nba_data = pd.read_csv(df)\n",
        "\n",
        "teams = [\"Bulls\", \"Mavericks\", \"Lakers\", \"Rockets\", \"Spurs\"]\n",
        "data_filtrada = nba_data[nba_data['Team'].isin(teams)][['Year', 'Team', 'Home Total Attendance']]\n",
        "color_scale = alt.Scale(domain=teams, range=['#CE1141', '#00538C', '#FDB927', '#C4CED4', '#000000'])\n",
        "\n",
        "gráfico = alt.Chart(data_filtrada).mark_line(point=True).encode(\n",
        "    x='Year:O',\n",
        "    y='Home Total Attendance:Q',\n",
        "    color=alt.Color('Team:N', scale=color_scale),\n",
        "    tooltip=['Year', 'Team', 'Home Total Attendance']\n",
        ").properties(\n",
        "    title='Asistencia Local Total por Año y Equipo en la NBA (Equipos Seleccionados)',\n",
        "    width=1200,\n",
        "    height=900\n",
        ").interactive()\n",
        "\n",
        "\n",
        "gráfico.save('Data Asistencia Filtrada.html')"
      ]
    }
  ]
}